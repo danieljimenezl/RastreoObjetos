{
 "cells": [
  {
   "cell_type": "markdown",
   "metadata": {},
   "source": [
    "# Rastreo de Objetos\n",
    "\n",
    "Para el campo de visión por computadora, la tarea de rastrear objetos tiene gran cantidad de aplicaciones. Hay constantes esfuerzos por parte de la academia y la industria por encontrar nuevos algoritmos que resulevan este reto de la manera mas eficiente y rápida posible, que permita, por ejemplo, el rastreo de objetos sobre videos en tiempo real.\n",
    "\n",
    "Se procede a mostrar la aplicación de diferentes algoritmos de rastreo sobre un video, esto mediante OpenCV. Se puede seleccionar entre los siguientes algoritmos:\n",
    "\n",
    "* BOOSTING\n",
    "* KCF\n",
    "* MEDIANFLOW\n",
    "* MOSSE\n",
    "* CSRT\n",
    "\n",
    "Adicional a seleccionar el algoritmo, hay disponibles tres videos sobre los cuales se puede aplicar el rastreo. Las opciones son las siguientes:\n",
    "\n",
    "* Barca.mp4\n",
    "* Chaplin.mp4\n",
    "* MarioKart.mp4\n",
    "\n",
    "Todos se encuentran dentro de la carpeta \"videos\" (se debe agregar como parte de la ruta al video).\n"
   ]
  },
  {
   "cell_type": "code",
   "execution_count": 43,
   "metadata": {},
   "outputs": [],
   "source": [
    "import cv2\n",
    "import sys\n",
    "from time import sleep\n",
    "\n",
    "tracker_type = 'MOSSE'\n",
    "video_path = 'videos/Barca.mp4'"
   ]
  },
  {
   "cell_type": "markdown",
   "metadata": {},
   "source": [
    "Esta siguiente parte construye el rastreador basado en el algoritmo seleccionado por el usuario. Estas son simplemente las opciones seleccionadas como ejemplos, pero OpenCV cuanta con mas algoritmos de rastreo."
   ]
  },
  {
   "cell_type": "code",
   "execution_count": 44,
   "metadata": {},
   "outputs": [],
   "source": [
    "switcher={\n",
    "    'BOOSTING':   cv2.TrackerBoosting_create(),\n",
    "    'KCF':        cv2.TrackerKCF_create(),\n",
    "    'MEDIANFLOW': cv2.TrackerMedianFlow_create(),\n",
    "    'MOSSE':      cv2.TrackerMOSSE_create(),\n",
    "    \"CSRT\":       cv2.TrackerCSRT_create()\n",
    "}\n",
    "\n",
    "tracker = switcher.get(tracker_type)"
   ]
  },
  {
   "cell_type": "markdown",
   "metadata": {},
   "source": [
    "Posteriormente se procede a abrir el video seleccionado."
   ]
  },
  {
   "cell_type": "code",
   "execution_count": 45,
   "metadata": {},
   "outputs": [],
   "source": [
    "video = cv2.VideoCapture(video_path)\n",
    "if not video.isOpened():\n",
    "    print(\"Could not open video\")"
   ]
  },
  {
   "cell_type": "markdown",
   "metadata": {},
   "source": [
    "Como primer paso, se debe seleccionar dentro del video, el objeto que se desea rastrear. Esta siguiente sección obtiene el primer cuadro del video y lo muestra para poder seleccionar el objeto que se desea rastrear.\n",
    "\n",
    "La selección del objeto se realiza mediante el mouse. Se marcará un recuadro azul sobre el objeto seleccionado y se procede a presionar ENTER o ESPACIO para finalizar la selección."
   ]
  },
  {
   "cell_type": "code",
   "execution_count": 46,
   "metadata": {},
   "outputs": [],
   "source": [
    "ok, frame = video.read()\n",
    "if not ok:\n",
    "    print('Cannot read video file')\n",
    "    \n",
    "bbox = (287, 23, 86, 320)\n",
    "bbox = cv2.selectROI(frame, False)\n",
    "cv2.destroyAllWindows()"
   ]
  },
  {
   "cell_type": "markdown",
   "metadata": {},
   "source": [
    "Se procede a continuación a inicializar el rastreador con el primer cuadro del video y el objeto seleccionado anteriormente."
   ]
  },
  {
   "cell_type": "code",
   "execution_count": 47,
   "metadata": {},
   "outputs": [],
   "source": [
    "ok = tracker.init(frame, bbox)"
   ]
  },
  {
   "cell_type": "markdown",
   "metadata": {},
   "source": [
    "Finalmente se procede a iterar sobre todos los cuadros del video, se actualiza el rastreo del objeto para cada cuadro y se procede a dibujar sobre cada cuadro la estimación de rastreo del objeto así como el tiempo que tarda en procesar cada cuadro."
   ]
  },
  {
   "cell_type": "code",
   "execution_count": 48,
   "metadata": {},
   "outputs": [],
   "source": [
    "while True:\n",
    "    sleep(0.02)\n",
    "    ok, frame = video.read()\n",
    "    if not ok:\n",
    "        cv2.destroyAllWindows()\n",
    "        break\n",
    "\n",
    "    timer = cv2.getTickCount()\n",
    "\n",
    "    ok, bbox = tracker.update(frame)\n",
    "\n",
    "    fps = cv2.getTickFrequency() / (cv2.getTickCount() - timer);\n",
    "\n",
    "    if ok:\n",
    "        p1 = (int(bbox[0]), int(bbox[1]))\n",
    "        p2 = (int(bbox[0] + bbox[2]), int(bbox[1] + bbox[3]))\n",
    "        cv2.rectangle(frame, p1, p2, (255,0,0), 2, 1)\n",
    "    else :\n",
    "        cv2.putText(frame, \"Tracking failure detected\", (100,80), cv2.FONT_HERSHEY_SIMPLEX, 0.75,(0,0,255),2)\n",
    "\n",
    "    cv2.putText(frame, tracker_type + \" Tracker\", (100,20), cv2.FONT_HERSHEY_SIMPLEX, 0.75, (50,170,50),2);\n",
    "    cv2.putText(frame, \"FPS : \" + str(int(fps)), (100,50), cv2.FONT_HERSHEY_SIMPLEX, 0.75, (50,170,50), 2);\n",
    "\n",
    "    cv2.imshow(\"Tracking\", frame)\n",
    "\n",
    "    k = cv2.waitKey(1) & 0xff\n",
    "    if k == 27 : break"
   ]
  }
 ],
 "metadata": {
  "kernelspec": {
   "display_name": "Python 3",
   "language": "python",
   "name": "python3"
  },
  "language_info": {
   "codemirror_mode": {
    "name": "ipython",
    "version": 3
   },
   "file_extension": ".py",
   "mimetype": "text/x-python",
   "name": "python",
   "nbconvert_exporter": "python",
   "pygments_lexer": "ipython3",
   "version": "3.7.7"
  }
 },
 "nbformat": 4,
 "nbformat_minor": 4
}
